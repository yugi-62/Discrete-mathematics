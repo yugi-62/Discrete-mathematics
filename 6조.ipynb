{
  "nbformat": 4,
  "nbformat_minor": 0,
  "metadata": {
    "colab": {
      "provenance": [],
      "authorship_tag": "ABX9TyOg2GjzENu86pT8zVEX5bJD",
      "include_colab_link": true
    },
    "kernelspec": {
      "name": "python3",
      "display_name": "Python 3"
    },
    "language_info": {
      "name": "python"
    }
  },
  "cells": [
    {
      "cell_type": "markdown",
      "metadata": {
        "id": "view-in-github",
        "colab_type": "text"
      },
      "source": [
        "<a href=\"https://colab.research.google.com/github/yugi-62/Discrete-mathematics/blob/main/6%EC%A1%B0.ipynb\" target=\"_parent\"><img src=\"https://colab.research.google.com/assets/colab-badge.svg\" alt=\"Open In Colab\"/></a>"
      ]
    },
    {
      "cell_type": "code",
      "execution_count": 1,
      "metadata": {
        "colab": {
          "base_uri": "https://localhost:8080/"
        },
        "id": "9JemzM7LxzaX",
        "outputId": "9f4bab1c-f051-4c8f-a0c5-ec9c364f2cc1"
      },
      "outputs": [
        {
          "output_type": "stream",
          "name": "stdout",
          "text": [
            "\n",
            "🦠 감염 시뮬레이션 시작 (감염자: 김민아)\n",
            "- 권나빈 (감염 1단계) | 경로: 김민아 → 권나빈\n",
            "- 반시영 (감염 1단계) | 경로: 김민아 → 반시영\n",
            "- 이수정 (감염 2단계) | 경로: 김민아 → 권나빈 → 이수정\n",
            "- 박경호 (감염 2단계) | 경로: 김민아 → 권나빈 → 박경호\n",
            "- 조은비 (감염 2단계) | 경로: 김민아 → 반시영 → 조은비\n"
          ]
        }
      ],
      "source": [
        "# ｢하｣ 감염 시뮬레이션: 2단계 이내 감염 전파 경로 추적\n",
        "\n",
        "from collections import deque\n",
        "\n",
        "# 예시 그래프: 친구 관계\n",
        "graph = {\n",
        "    '김민아': ['권나빈', '반시영'],\n",
        "    '권나빈': ['이수정', '박경호'],\n",
        "    '반시영': ['조은비'],\n",
        "    '박경호': [],\n",
        "    '이수정': ['조은비'],\n",
        "    '조은비': []\n",
        "}\n",
        "\n",
        "def infection_simulation(graph, start, max_depth=2):\n",
        "    visited = set()\n",
        "    queue = deque([(start, 0)])\n",
        "    visited.add(start)\n",
        "\n",
        "    infected = {}   # 감염자 제외, 감염된 사람과 거리 기록\n",
        "    parent = {start: None}  # 감염 경로 추적용\n",
        "\n",
        "    while queue:\n",
        "        current, depth = queue.popleft()\n",
        "\n",
        "        if depth < max_depth:\n",
        "            for neighbor in graph[current]:\n",
        "                if neighbor not in visited:\n",
        "                    visited.add(neighbor)\n",
        "                    parent[neighbor] = current\n",
        "                    infected[neighbor] = depth + 1  # 감염 거리 저장\n",
        "                    queue.append((neighbor, depth + 1))\n",
        "\n",
        "    # 감염 경로 복원\n",
        "    paths = {}\n",
        "    for person in infected:\n",
        "        path = []\n",
        "        curr = person\n",
        "        while curr is not None:\n",
        "            path.append(curr)\n",
        "            curr = parent[curr]\n",
        "        paths[person] = \" → \".join(path[::-1])  # 역순으로 뒤집기\n",
        "\n",
        "    # 출력\n",
        "    print(f\"\\n🦠 감염 시뮬레이션 시작 (감염자: {start})\")\n",
        "    for person, level in infected.items():\n",
        "        print(f\"- {person} (감염 {level}단계) | 경로: {paths[person]}\")\n",
        "\n",
        "# 실행\n",
        "infection_simulation(graph, '김민아')\n",
        "\n"
      ]
    },
    {
      "cell_type": "code",
      "source": [
        "# [중 단계] 감염 시뮬레이션 (노드 100개 / 최대 감염 깊이 10)\n",
        "\n",
        "from collections import deque\n",
        "\n",
        "# 1~100까지 노드를 자동으로 연결 (선형 연결)\n",
        "graph = {}\n",
        "for i in range(1, 101):\n",
        "    graph[f'사람{i}'] = []\n",
        "    if i < 100:\n",
        "        graph[f'사람{i}'].append(f'사람{i+1}')\n",
        "    if i > 1:\n",
        "        graph[f'사람{i}'].append(f'사람{i-1}')\n",
        "\n",
        "def infection_simulation(graph, start, max_depth=10):\n",
        "    visited = set()\n",
        "    queue = deque([(start, 0)])\n",
        "    visited.add(start)\n",
        "\n",
        "    infected = {}\n",
        "    parent = {start: None}\n",
        "\n",
        "    while queue:\n",
        "        current, depth = queue.popleft()\n",
        "        if depth < max_depth:\n",
        "            for neighbor in graph[current]:\n",
        "                if neighbor not in visited:\n",
        "                    visited.add(neighbor)\n",
        "                    parent[neighbor] = current\n",
        "                    infected[neighbor] = depth + 1\n",
        "                    queue.append((neighbor, depth + 1))\n",
        "\n",
        "    # 감염 경로 복원\n",
        "    paths = {}\n",
        "    for person in infected:\n",
        "        path = []\n",
        "        curr = person\n",
        "        while curr is not None:\n",
        "            path.append(curr)\n",
        "            curr = parent[curr]\n",
        "        paths[person] = \" → \".join(path[::-1])\n",
        "\n",
        "    print(f\"\\n🦠 감염 시뮬레이션 시작 (감염자: {start})\")\n",
        "    count = 0\n",
        "    for person, level in infected.items():\n",
        "        print(f\"- {person} (감염 {level}단계) | 경로: {paths[person]}\")\n",
        "        count += 1\n",
        "        if count >= 20:  # 너무 많으니 20명까지만 표시\n",
        "            print(\"... (이하 생략)\")\n",
        "            break\n",
        "    print(f\"\\n총 감염자 수: {len(infected)}명\")\n",
        "\n",
        "# 실행\n",
        "infection_simulation(graph, '사람1', max_depth=10)\n"
      ],
      "metadata": {
        "colab": {
          "base_uri": "https://localhost:8080/"
        },
        "id": "fUd0xQfnx2op",
        "outputId": "d0983cd0-5a46-4383-dabb-4c026d1aaf46"
      },
      "execution_count": 2,
      "outputs": [
        {
          "output_type": "stream",
          "name": "stdout",
          "text": [
            "\n",
            "🦠 감염 시뮬레이션 시작 (감염자: 사람1)\n",
            "- 사람2 (감염 1단계) | 경로: 사람1 → 사람2\n",
            "- 사람3 (감염 2단계) | 경로: 사람1 → 사람2 → 사람3\n",
            "- 사람4 (감염 3단계) | 경로: 사람1 → 사람2 → 사람3 → 사람4\n",
            "- 사람5 (감염 4단계) | 경로: 사람1 → 사람2 → 사람3 → 사람4 → 사람5\n",
            "- 사람6 (감염 5단계) | 경로: 사람1 → 사람2 → 사람3 → 사람4 → 사람5 → 사람6\n",
            "- 사람7 (감염 6단계) | 경로: 사람1 → 사람2 → 사람3 → 사람4 → 사람5 → 사람6 → 사람7\n",
            "- 사람8 (감염 7단계) | 경로: 사람1 → 사람2 → 사람3 → 사람4 → 사람5 → 사람6 → 사람7 → 사람8\n",
            "- 사람9 (감염 8단계) | 경로: 사람1 → 사람2 → 사람3 → 사람4 → 사람5 → 사람6 → 사람7 → 사람8 → 사람9\n",
            "- 사람10 (감염 9단계) | 경로: 사람1 → 사람2 → 사람3 → 사람4 → 사람5 → 사람6 → 사람7 → 사람8 → 사람9 → 사람10\n",
            "- 사람11 (감염 10단계) | 경로: 사람1 → 사람2 → 사람3 → 사람4 → 사람5 → 사람6 → 사람7 → 사람8 → 사람9 → 사람10 → 사람11\n",
            "\n",
            "총 감염자 수: 10명\n"
          ]
        }
      ]
    },
    {
      "cell_type": "code",
      "source": [
        "# [상 단계] 감염 시뮬레이션 (노드 1000개 / 최대 감염 깊이 50)\n",
        "\n",
        "from collections import deque\n",
        "\n",
        "# 1~1000 노드를 자동 연결 (양방향 선형 그래프)\n",
        "graph = {}\n",
        "for i in range(1, 1001):\n",
        "    graph[f'사람{i}'] = []\n",
        "    if i < 1000:\n",
        "        graph[f'사람{i}'].append(f'사람{i+1}')\n",
        "    if i > 1:\n",
        "        graph[f'사람{i}'].append(f'사람{i-1}')\n",
        "\n",
        "def infection_simulation(graph, start, max_depth=50):\n",
        "    visited = set()\n",
        "    queue = deque([(start, 0)])\n",
        "    visited.add(start)\n",
        "\n",
        "    infected = {}\n",
        "    parent = {start: None}\n",
        "\n",
        "    while queue:\n",
        "        current, depth = queue.popleft()\n",
        "        if depth < max_depth:\n",
        "            for neighbor in graph[current]:\n",
        "                if neighbor not in visited:\n",
        "                    visited.add(neighbor)\n",
        "                    parent[neighbor] = current\n",
        "                    infected[neighbor] = depth + 1\n",
        "                    queue.append((neighbor, depth + 1))\n",
        "\n",
        "    # 감염 경로 복원\n",
        "    paths = {}\n",
        "    for person in infected:\n",
        "        path = []\n",
        "        curr = person\n",
        "        while curr is not None:\n",
        "            path.append(curr)\n",
        "            curr = parent[curr]\n",
        "        paths[person] = \" → \".join(path[::-1])\n",
        "\n",
        "    print(f\"\\n🦠 감염 시뮬레이션 시작 (감염자: {start})\")\n",
        "    print(f\"총 감염자 수: {len(infected)}명 (50단계 이내)\")\n",
        "    print(\"\\n일부 감염자 출력:\")\n",
        "    count = 0\n",
        "    for person, level in infected.items():\n",
        "        print(f\"- {person} (감염 {level}단계) | 경로: {paths[person]}\")\n",
        "        count += 1\n",
        "        if count >= 30:\n",
        "            print(\"... (이하 생략)\")\n",
        "            break\n",
        "\n",
        "# 실행\n",
        "infection_simulation(graph, '사람1', max_depth=50)\n"
      ],
      "metadata": {
        "colab": {
          "base_uri": "https://localhost:8080/"
        },
        "id": "Yj6QoDoPx5yI",
        "outputId": "bd8f9ca1-4910-4af2-c52a-3b64fcb8f302"
      },
      "execution_count": 3,
      "outputs": [
        {
          "output_type": "stream",
          "name": "stdout",
          "text": [
            "\n",
            "🦠 감염 시뮬레이션 시작 (감염자: 사람1)\n",
            "총 감염자 수: 50명 (50단계 이내)\n",
            "\n",
            "일부 감염자 출력:\n",
            "- 사람2 (감염 1단계) | 경로: 사람1 → 사람2\n",
            "- 사람3 (감염 2단계) | 경로: 사람1 → 사람2 → 사람3\n",
            "- 사람4 (감염 3단계) | 경로: 사람1 → 사람2 → 사람3 → 사람4\n",
            "- 사람5 (감염 4단계) | 경로: 사람1 → 사람2 → 사람3 → 사람4 → 사람5\n",
            "- 사람6 (감염 5단계) | 경로: 사람1 → 사람2 → 사람3 → 사람4 → 사람5 → 사람6\n",
            "- 사람7 (감염 6단계) | 경로: 사람1 → 사람2 → 사람3 → 사람4 → 사람5 → 사람6 → 사람7\n",
            "- 사람8 (감염 7단계) | 경로: 사람1 → 사람2 → 사람3 → 사람4 → 사람5 → 사람6 → 사람7 → 사람8\n",
            "- 사람9 (감염 8단계) | 경로: 사람1 → 사람2 → 사람3 → 사람4 → 사람5 → 사람6 → 사람7 → 사람8 → 사람9\n",
            "- 사람10 (감염 9단계) | 경로: 사람1 → 사람2 → 사람3 → 사람4 → 사람5 → 사람6 → 사람7 → 사람8 → 사람9 → 사람10\n",
            "- 사람11 (감염 10단계) | 경로: 사람1 → 사람2 → 사람3 → 사람4 → 사람5 → 사람6 → 사람7 → 사람8 → 사람9 → 사람10 → 사람11\n",
            "- 사람12 (감염 11단계) | 경로: 사람1 → 사람2 → 사람3 → 사람4 → 사람5 → 사람6 → 사람7 → 사람8 → 사람9 → 사람10 → 사람11 → 사람12\n",
            "- 사람13 (감염 12단계) | 경로: 사람1 → 사람2 → 사람3 → 사람4 → 사람5 → 사람6 → 사람7 → 사람8 → 사람9 → 사람10 → 사람11 → 사람12 → 사람13\n",
            "- 사람14 (감염 13단계) | 경로: 사람1 → 사람2 → 사람3 → 사람4 → 사람5 → 사람6 → 사람7 → 사람8 → 사람9 → 사람10 → 사람11 → 사람12 → 사람13 → 사람14\n",
            "- 사람15 (감염 14단계) | 경로: 사람1 → 사람2 → 사람3 → 사람4 → 사람5 → 사람6 → 사람7 → 사람8 → 사람9 → 사람10 → 사람11 → 사람12 → 사람13 → 사람14 → 사람15\n",
            "- 사람16 (감염 15단계) | 경로: 사람1 → 사람2 → 사람3 → 사람4 → 사람5 → 사람6 → 사람7 → 사람8 → 사람9 → 사람10 → 사람11 → 사람12 → 사람13 → 사람14 → 사람15 → 사람16\n",
            "- 사람17 (감염 16단계) | 경로: 사람1 → 사람2 → 사람3 → 사람4 → 사람5 → 사람6 → 사람7 → 사람8 → 사람9 → 사람10 → 사람11 → 사람12 → 사람13 → 사람14 → 사람15 → 사람16 → 사람17\n",
            "- 사람18 (감염 17단계) | 경로: 사람1 → 사람2 → 사람3 → 사람4 → 사람5 → 사람6 → 사람7 → 사람8 → 사람9 → 사람10 → 사람11 → 사람12 → 사람13 → 사람14 → 사람15 → 사람16 → 사람17 → 사람18\n",
            "- 사람19 (감염 18단계) | 경로: 사람1 → 사람2 → 사람3 → 사람4 → 사람5 → 사람6 → 사람7 → 사람8 → 사람9 → 사람10 → 사람11 → 사람12 → 사람13 → 사람14 → 사람15 → 사람16 → 사람17 → 사람18 → 사람19\n",
            "- 사람20 (감염 19단계) | 경로: 사람1 → 사람2 → 사람3 → 사람4 → 사람5 → 사람6 → 사람7 → 사람8 → 사람9 → 사람10 → 사람11 → 사람12 → 사람13 → 사람14 → 사람15 → 사람16 → 사람17 → 사람18 → 사람19 → 사람20\n",
            "- 사람21 (감염 20단계) | 경로: 사람1 → 사람2 → 사람3 → 사람4 → 사람5 → 사람6 → 사람7 → 사람8 → 사람9 → 사람10 → 사람11 → 사람12 → 사람13 → 사람14 → 사람15 → 사람16 → 사람17 → 사람18 → 사람19 → 사람20 → 사람21\n",
            "- 사람22 (감염 21단계) | 경로: 사람1 → 사람2 → 사람3 → 사람4 → 사람5 → 사람6 → 사람7 → 사람8 → 사람9 → 사람10 → 사람11 → 사람12 → 사람13 → 사람14 → 사람15 → 사람16 → 사람17 → 사람18 → 사람19 → 사람20 → 사람21 → 사람22\n",
            "- 사람23 (감염 22단계) | 경로: 사람1 → 사람2 → 사람3 → 사람4 → 사람5 → 사람6 → 사람7 → 사람8 → 사람9 → 사람10 → 사람11 → 사람12 → 사람13 → 사람14 → 사람15 → 사람16 → 사람17 → 사람18 → 사람19 → 사람20 → 사람21 → 사람22 → 사람23\n",
            "- 사람24 (감염 23단계) | 경로: 사람1 → 사람2 → 사람3 → 사람4 → 사람5 → 사람6 → 사람7 → 사람8 → 사람9 → 사람10 → 사람11 → 사람12 → 사람13 → 사람14 → 사람15 → 사람16 → 사람17 → 사람18 → 사람19 → 사람20 → 사람21 → 사람22 → 사람23 → 사람24\n",
            "- 사람25 (감염 24단계) | 경로: 사람1 → 사람2 → 사람3 → 사람4 → 사람5 → 사람6 → 사람7 → 사람8 → 사람9 → 사람10 → 사람11 → 사람12 → 사람13 → 사람14 → 사람15 → 사람16 → 사람17 → 사람18 → 사람19 → 사람20 → 사람21 → 사람22 → 사람23 → 사람24 → 사람25\n",
            "- 사람26 (감염 25단계) | 경로: 사람1 → 사람2 → 사람3 → 사람4 → 사람5 → 사람6 → 사람7 → 사람8 → 사람9 → 사람10 → 사람11 → 사람12 → 사람13 → 사람14 → 사람15 → 사람16 → 사람17 → 사람18 → 사람19 → 사람20 → 사람21 → 사람22 → 사람23 → 사람24 → 사람25 → 사람26\n",
            "- 사람27 (감염 26단계) | 경로: 사람1 → 사람2 → 사람3 → 사람4 → 사람5 → 사람6 → 사람7 → 사람8 → 사람9 → 사람10 → 사람11 → 사람12 → 사람13 → 사람14 → 사람15 → 사람16 → 사람17 → 사람18 → 사람19 → 사람20 → 사람21 → 사람22 → 사람23 → 사람24 → 사람25 → 사람26 → 사람27\n",
            "- 사람28 (감염 27단계) | 경로: 사람1 → 사람2 → 사람3 → 사람4 → 사람5 → 사람6 → 사람7 → 사람8 → 사람9 → 사람10 → 사람11 → 사람12 → 사람13 → 사람14 → 사람15 → 사람16 → 사람17 → 사람18 → 사람19 → 사람20 → 사람21 → 사람22 → 사람23 → 사람24 → 사람25 → 사람26 → 사람27 → 사람28\n",
            "- 사람29 (감염 28단계) | 경로: 사람1 → 사람2 → 사람3 → 사람4 → 사람5 → 사람6 → 사람7 → 사람8 → 사람9 → 사람10 → 사람11 → 사람12 → 사람13 → 사람14 → 사람15 → 사람16 → 사람17 → 사람18 → 사람19 → 사람20 → 사람21 → 사람22 → 사람23 → 사람24 → 사람25 → 사람26 → 사람27 → 사람28 → 사람29\n",
            "- 사람30 (감염 29단계) | 경로: 사람1 → 사람2 → 사람3 → 사람4 → 사람5 → 사람6 → 사람7 → 사람8 → 사람9 → 사람10 → 사람11 → 사람12 → 사람13 → 사람14 → 사람15 → 사람16 → 사람17 → 사람18 → 사람19 → 사람20 → 사람21 → 사람22 → 사람23 → 사람24 → 사람25 → 사람26 → 사람27 → 사람28 → 사람29 → 사람30\n",
            "- 사람31 (감염 30단계) | 경로: 사람1 → 사람2 → 사람3 → 사람4 → 사람5 → 사람6 → 사람7 → 사람8 → 사람9 → 사람10 → 사람11 → 사람12 → 사람13 → 사람14 → 사람15 → 사람16 → 사람17 → 사람18 → 사람19 → 사람20 → 사람21 → 사람22 → 사람23 → 사람24 → 사람25 → 사람26 → 사람27 → 사람28 → 사람29 → 사람30 → 사람31\n",
            "... (이하 생략)\n"
          ]
        }
      ]
    }
  ]
}