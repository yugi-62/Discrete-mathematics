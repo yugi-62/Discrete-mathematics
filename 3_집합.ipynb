{
  "nbformat": 4,
  "nbformat_minor": 0,
  "metadata": {
    "colab": {
      "provenance": [],
      "authorship_tag": "ABX9TyOxmAXT7pemGF81YAwRFGxU",
      "include_colab_link": true
    },
    "kernelspec": {
      "name": "python3",
      "display_name": "Python 3"
    },
    "language_info": {
      "name": "python"
    }
  },
  "cells": [
    {
      "cell_type": "markdown",
      "metadata": {
        "id": "view-in-github",
        "colab_type": "text"
      },
      "source": [
        "<a href=\"https://colab.research.google.com/github/yugi-62/Discrete-mathematics/blob/main/3_%EC%A7%91%ED%95%A9.ipynb\" target=\"_parent\"><img src=\"https://colab.research.google.com/assets/colab-badge.svg\" alt=\"Open In Colab\"/></a>"
      ]
    },
    {
      "cell_type": "code",
      "source": [
        "print(\"Hello, World!\")"
      ],
      "metadata": {
        "colab": {
          "base_uri": "https://localhost:8080/"
        },
        "id": "vR3cCb700sRn",
        "outputId": "3f6d78a6-12fe-4061-8a18-1b5e5cc08010"
      },
      "execution_count": 4,
      "outputs": [
        {
          "output_type": "stream",
          "name": "stdout",
          "text": [
            "Hello, World!\n"
          ]
        }
      ]
    },
    {
      "cell_type": "code",
      "source": [
        "# 리스트와 set의 차이: 중복 유무 셋은 중복을 허용하지 않는다.\n",
        "s1 = set([1,2,3])\n",
        "print(s1)\n",
        "s2 = set([2,3,4])\n",
        "print(s2)\n",
        "print(s1 & s2)\n",
        "print(s1 | s2)\n",
        "print(s1 - s2)"
      ],
      "metadata": {
        "colab": {
          "base_uri": "https://localhost:8080/"
        },
        "id": "HlJKnJcP010V",
        "outputId": "06d86e85-2612-4c66-941c-42b547505706"
      },
      "execution_count": 7,
      "outputs": [
        {
          "output_type": "stream",
          "name": "stdout",
          "text": [
            "{1, 2, 3}\n",
            "{2, 3, 4}\n",
            "{2, 3}\n",
            "{1, 2, 3, 4}\n",
            "{1}\n"
          ]
        }
      ]
    },
    {
      "cell_type": "code",
      "source": [
        "BankA_cu = set([\"김철수\", \"이영희\", \"박민수\", \"최지우\"])\n",
        "BankB_cu = set([\"이영희\", \"최지우\", \"정우성\", \"한지민\"])\n",
        "print(\"은행 A 고객:\", BankA_cu)\n",
        "print(\"은행 B 고객:\", BankB_cu)\n",
        "\n",
        "tot_cu = BankA_cu | BankB_cu\n",
        "print(\"합병 후 전체 고객:\", tot_cu)\n",
        "\n",
        "com_cu = BankA_cu & BankB_cu\n",
        "print(\"공통 고객:\", com_cu)\n",
        "\n",
        "only_A_cu = BankA_cu - BankB_cu\n",
        "print(\"A 은행에만 있는 고객:\", only_A_cu)\n",
        "\n",
        "only_B_cu = BankB_cu - BankA_cu\n",
        "print(\"B 은행에만 있는 고객:\", only_B_cu)"
      ],
      "metadata": {
        "colab": {
          "base_uri": "https://localhost:8080/"
        },
        "id": "ipfZFjKa1lPS",
        "outputId": "17320fc0-2ef1-4b1c-d782-428c5f04bb12"
      },
      "execution_count": 9,
      "outputs": [
        {
          "output_type": "stream",
          "name": "stdout",
          "text": [
            "은행 A 고객: {'김철수', '최지우', '이영희', '박민수'}\n",
            "은행 B 고객: {'이영희', '최지우', '한지민', '정우성'}\n",
            "합병 후 전체 고객: {'이영희', '최지우', '박민수', '한지민', '김철수', '정우성'}\n",
            "공통 고객: {'이영희', '최지우'}\n",
            "A 은행에만 있는 고객: {'김철수', '박민수'}\n",
            "B 은행에만 있는 고객: {'한지민', '정우성'}\n"
          ]
        }
      ]
    },
    {
      "cell_type": "code",
      "source": [
        "import numpy as np\n",
        "\n",
        "# 12가지 파버카스텔 색연필 색상 집합 (RGB 값 예시)\n",
        "faber_castell_colors = {\n",
        "\"White\": (255, 255, 255),\n",
        "\"Black\": (0, 0, 0),\n",
        "\"Brown\": (150, 75, 0),\n",
        "\"Orange\": (255, 127, 0),\n",
        "\"Red\": (255, 0, 0),\n",
        "\"Yellow\": (255, 255, 0),\n",
        "\"Light Green\": (0, 255, 0),\n",
        "\"Green\": (0, 128, 0),\n",
        "\"Light Blue\": (0, 255, 255),\n",
        "\"Blue\": (0, 0, 255),\n",
        "\"Purple\": (128, 0, 128),\n",
        "\"Pink\": (255, 192, 203)\n",
        "}\n",
        "\n",
        "# 입력 색상 (예: 사용자 입력값)\n",
        "input_color = (120, 100, 200) # 예를 들어 보라색 계열\n",
        "\n",
        "def find_nearest_color(input_rgb, color_set):\n",
        "    min_dist = float('inf')\n",
        "    nearest_name = None\n",
        "    for name, rgb in color_set.items():\n",
        "        # 유클리드 거리 계산\n",
        "        dist = np.sqrt(sum((a - b) ** 2 for a, b in zip(input_rgb, rgb)))\n",
        "        if dist < min_dist:\n",
        "            min_dist = dist\n",
        "            nearest_name = name\n",
        "    return nearest_name, color_set[nearest_name]\n",
        "\n",
        "nearest_name, nearest_rgb = find_nearest_color(input_color, faber_castell_colors)\n",
        "\n",
        "print(f\"입력 색상: {input_color}\")\n",
        "print(f\"가장 가까운 파버카스텔 색상: {nearest_name}, RGB: {nearest_rgb}\")"
      ],
      "metadata": {
        "id": "6id-vD0T2tV5"
      },
      "execution_count": null,
      "outputs": []
    },
    {
      "cell_type": "code",
      "source": [],
      "metadata": {
        "id": "NLTuieBz3Fe7"
      },
      "execution_count": null,
      "outputs": []
    }
  ]
}