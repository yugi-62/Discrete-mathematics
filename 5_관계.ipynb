{
  "nbformat": 4,
  "nbformat_minor": 0,
  "metadata": {
    "colab": {
      "provenance": [],
      "authorship_tag": "ABX9TyOJLxKnq8b54cVx9lj+P3HO",
      "include_colab_link": true
    },
    "kernelspec": {
      "name": "python3",
      "display_name": "Python 3"
    },
    "language_info": {
      "name": "python"
    }
  },
  "cells": [
    {
      "cell_type": "markdown",
      "metadata": {
        "id": "view-in-github",
        "colab_type": "text"
      },
      "source": [
        "<a href=\"https://colab.research.google.com/github/yugi-62/Discrete-mathematics/blob/main/5_%EA%B4%80%EA%B3%84.ipynb\" target=\"_parent\"><img src=\"https://colab.research.google.com/assets/colab-badge.svg\" alt=\"Open In Colab\"/></a>"
      ]
    },
    {
      "cell_type": "code",
      "execution_count": null,
      "metadata": {
        "colab": {
          "base_uri": "https://localhost:8080/"
        },
        "id": "8Z-1bTTHHDq3",
        "outputId": "697248b4-99dd-4dd0-bd9d-086caf7623f3"
      },
      "outputs": [
        {
          "output_type": "stream",
          "name": "stdout",
          "text": [
            "관계 R: {(2, 3), (3, 2), (1, 2), (3, 4)}\n"
          ]
        }
      ],
      "source": [
        "import numpy as np #줄여서 부르겠다\n",
        "import networkx as nx\n",
        "import matplotlib.pyplot as plt\n",
        "\n",
        "A = { 1, 2, 3}\n",
        "B = {2, 3, 4}\n",
        "\n",
        "#A에서 B로가느 ㄴ이항관계\n",
        "\n",
        "R = {(1, 2), (2, 3), (3, 2), (3, 4)}\n",
        "\n",
        "print(\"관계 R:\", R)\n"
      ]
    },
    {
      "cell_type": "markdown",
      "source": [],
      "metadata": {
        "id": "wvihpuOOK0WT"
      }
    },
    {
      "cell_type": "code",
      "source": [
        "A_list = sorted(A)\n",
        "B_list = sorted(B)\n",
        "\n",
        "relation_matrix = np.zeros((len(A_list), len(B_list)), dtype=int)\n",
        "\n",
        "for i, a in enumerate(A_list):\n",
        "    for j, b in enumerate(B_list):\n",
        "        if (a, b) in R:\n",
        "            relation_matrix[i, j] = 1\n",
        "\n",
        "print(\"관계 행렬 (rows: A, columns: B):\")\n",
        "print(relation_matrix)\n"
      ],
      "metadata": {
        "id": "LeUstWcNS_XD"
      },
      "execution_count": null,
      "outputs": []
    },
    {
      "cell_type": "code",
      "source": [
        "# R: A -> B\n",
        "# S: B -> C\n",
        "C = {'x', 'y'}\n",
        "S = {(2, 'x'), (3, 'y'), (4, 'x')}\n",
        "\n",
        "# 합성 관계 R . S\n",
        "composed_relation = set()\n",
        "\n",
        "for (a, b1) in R:\n",
        "    for (b2, c) in S:\n",
        "        if b1 == b2:\n",
        "            composed_relation.add((a, c))\n",
        "\n",
        "print(\"\\n합성 관계 R . S:\", composed_relation)\n",
        "# R: A -> B\n",
        "# S: B -> C\n",
        "C = {'x', 'y'}\n",
        "S = {(2, 'x'), (3, 'y'), (4, 'x')}\n",
        "\n",
        "# 합성 관계 R . S\n",
        "composed_relation = set()\n",
        "\n",
        "for (a, b1) in R:\n",
        "    for (b2, c) in S:\n",
        "        if b1 == b2:\n",
        "            composed_relation.add((a, c))\n",
        "\n",
        "print(\"\\n합성 관계 R . S:\", composed_relation)\n"
      ],
      "metadata": {
        "id": "Yu38LEL8TC7C"
      },
      "execution_count": null,
      "outputs": []
    }
  ]
}